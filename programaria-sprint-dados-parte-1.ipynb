{
 "cells": [
  {
   "cell_type": "markdown",
   "id": "fda8db4b",
   "metadata": {
    "papermill": {
     "duration": 0.007673,
     "end_time": "2023-08-26T20:01:52.578349",
     "exception": false,
     "start_time": "2023-08-26T20:01:52.570676",
     "status": "completed"
    },
    "tags": []
   },
   "source": [
    "# Parte 1: Classificando resultado de exames"
   ]
  },
  {
   "cell_type": "code",
   "execution_count": 1,
   "id": "aba8b0c3",
   "metadata": {
    "_cell_guid": "b1076dfc-b9ad-4769-8c92-a6c4dae69d19",
    "_uuid": "8f2839f25d086af736a60e9eeb907d3b93b6e0e5",
    "execution": {
     "iopub.execute_input": "2023-08-26T20:01:52.595637Z",
     "iopub.status.busy": "2023-08-26T20:01:52.594698Z",
     "iopub.status.idle": "2023-08-26T20:01:52.612427Z",
     "shell.execute_reply": "2023-08-26T20:01:52.611465Z"
    },
    "papermill": {
     "duration": 0.029134,
     "end_time": "2023-08-26T20:01:52.614909",
     "exception": false,
     "start_time": "2023-08-26T20:01:52.585775",
     "status": "completed"
    },
    "tags": []
   },
   "outputs": [
    {
     "name": "stdout",
     "output_type": "stream",
     "text": [
      "/kaggle/input/breast-cancer-dataset/breast-cancer.csv\n"
     ]
    }
   ],
   "source": [
    "import numpy as np # linear algebra\n",
    "import pandas as pd # data processing, CSV file I/O (e.g. pd.read_csv)\n",
    "\n",
    "import os\n",
    "for dirname, _, filenames in os.walk('/kaggle/input'):\n",
    "    for filename in filenames:\n",
    "        print(os.path.join(dirname, filename))"
   ]
  },
  {
   "cell_type": "code",
   "execution_count": 2,
   "id": "57b80561",
   "metadata": {
    "execution": {
     "iopub.execute_input": "2023-08-26T20:01:52.631894Z",
     "iopub.status.busy": "2023-08-26T20:01:52.631131Z",
     "iopub.status.idle": "2023-08-26T20:01:52.690971Z",
     "shell.execute_reply": "2023-08-26T20:01:52.689687Z"
    },
    "papermill": {
     "duration": 0.070833,
     "end_time": "2023-08-26T20:01:52.693285",
     "exception": false,
     "start_time": "2023-08-26T20:01:52.622452",
     "status": "completed"
    },
    "tags": []
   },
   "outputs": [
    {
     "data": {
      "text/html": [
       "<div>\n",
       "<style scoped>\n",
       "    .dataframe tbody tr th:only-of-type {\n",
       "        vertical-align: middle;\n",
       "    }\n",
       "\n",
       "    .dataframe tbody tr th {\n",
       "        vertical-align: top;\n",
       "    }\n",
       "\n",
       "    .dataframe thead th {\n",
       "        text-align: right;\n",
       "    }\n",
       "</style>\n",
       "<table border=\"1\" class=\"dataframe\">\n",
       "  <thead>\n",
       "    <tr style=\"text-align: right;\">\n",
       "      <th></th>\n",
       "      <th>id</th>\n",
       "      <th>diagnosis</th>\n",
       "      <th>radius_mean</th>\n",
       "      <th>texture_mean</th>\n",
       "      <th>perimeter_mean</th>\n",
       "      <th>area_mean</th>\n",
       "      <th>smoothness_mean</th>\n",
       "      <th>compactness_mean</th>\n",
       "      <th>concavity_mean</th>\n",
       "      <th>concave points_mean</th>\n",
       "      <th>...</th>\n",
       "      <th>radius_worst</th>\n",
       "      <th>texture_worst</th>\n",
       "      <th>perimeter_worst</th>\n",
       "      <th>area_worst</th>\n",
       "      <th>smoothness_worst</th>\n",
       "      <th>compactness_worst</th>\n",
       "      <th>concavity_worst</th>\n",
       "      <th>concave points_worst</th>\n",
       "      <th>symmetry_worst</th>\n",
       "      <th>fractal_dimension_worst</th>\n",
       "    </tr>\n",
       "  </thead>\n",
       "  <tbody>\n",
       "    <tr>\n",
       "      <th>0</th>\n",
       "      <td>842302</td>\n",
       "      <td>M</td>\n",
       "      <td>17.99</td>\n",
       "      <td>10.38</td>\n",
       "      <td>122.80</td>\n",
       "      <td>1001.0</td>\n",
       "      <td>0.11840</td>\n",
       "      <td>0.27760</td>\n",
       "      <td>0.3001</td>\n",
       "      <td>0.14710</td>\n",
       "      <td>...</td>\n",
       "      <td>25.38</td>\n",
       "      <td>17.33</td>\n",
       "      <td>184.60</td>\n",
       "      <td>2019.0</td>\n",
       "      <td>0.1622</td>\n",
       "      <td>0.6656</td>\n",
       "      <td>0.7119</td>\n",
       "      <td>0.2654</td>\n",
       "      <td>0.4601</td>\n",
       "      <td>0.11890</td>\n",
       "    </tr>\n",
       "    <tr>\n",
       "      <th>1</th>\n",
       "      <td>842517</td>\n",
       "      <td>M</td>\n",
       "      <td>20.57</td>\n",
       "      <td>17.77</td>\n",
       "      <td>132.90</td>\n",
       "      <td>1326.0</td>\n",
       "      <td>0.08474</td>\n",
       "      <td>0.07864</td>\n",
       "      <td>0.0869</td>\n",
       "      <td>0.07017</td>\n",
       "      <td>...</td>\n",
       "      <td>24.99</td>\n",
       "      <td>23.41</td>\n",
       "      <td>158.80</td>\n",
       "      <td>1956.0</td>\n",
       "      <td>0.1238</td>\n",
       "      <td>0.1866</td>\n",
       "      <td>0.2416</td>\n",
       "      <td>0.1860</td>\n",
       "      <td>0.2750</td>\n",
       "      <td>0.08902</td>\n",
       "    </tr>\n",
       "    <tr>\n",
       "      <th>2</th>\n",
       "      <td>84300903</td>\n",
       "      <td>M</td>\n",
       "      <td>19.69</td>\n",
       "      <td>21.25</td>\n",
       "      <td>130.00</td>\n",
       "      <td>1203.0</td>\n",
       "      <td>0.10960</td>\n",
       "      <td>0.15990</td>\n",
       "      <td>0.1974</td>\n",
       "      <td>0.12790</td>\n",
       "      <td>...</td>\n",
       "      <td>23.57</td>\n",
       "      <td>25.53</td>\n",
       "      <td>152.50</td>\n",
       "      <td>1709.0</td>\n",
       "      <td>0.1444</td>\n",
       "      <td>0.4245</td>\n",
       "      <td>0.4504</td>\n",
       "      <td>0.2430</td>\n",
       "      <td>0.3613</td>\n",
       "      <td>0.08758</td>\n",
       "    </tr>\n",
       "    <tr>\n",
       "      <th>3</th>\n",
       "      <td>84348301</td>\n",
       "      <td>M</td>\n",
       "      <td>11.42</td>\n",
       "      <td>20.38</td>\n",
       "      <td>77.58</td>\n",
       "      <td>386.1</td>\n",
       "      <td>0.14250</td>\n",
       "      <td>0.28390</td>\n",
       "      <td>0.2414</td>\n",
       "      <td>0.10520</td>\n",
       "      <td>...</td>\n",
       "      <td>14.91</td>\n",
       "      <td>26.50</td>\n",
       "      <td>98.87</td>\n",
       "      <td>567.7</td>\n",
       "      <td>0.2098</td>\n",
       "      <td>0.8663</td>\n",
       "      <td>0.6869</td>\n",
       "      <td>0.2575</td>\n",
       "      <td>0.6638</td>\n",
       "      <td>0.17300</td>\n",
       "    </tr>\n",
       "    <tr>\n",
       "      <th>4</th>\n",
       "      <td>84358402</td>\n",
       "      <td>M</td>\n",
       "      <td>20.29</td>\n",
       "      <td>14.34</td>\n",
       "      <td>135.10</td>\n",
       "      <td>1297.0</td>\n",
       "      <td>0.10030</td>\n",
       "      <td>0.13280</td>\n",
       "      <td>0.1980</td>\n",
       "      <td>0.10430</td>\n",
       "      <td>...</td>\n",
       "      <td>22.54</td>\n",
       "      <td>16.67</td>\n",
       "      <td>152.20</td>\n",
       "      <td>1575.0</td>\n",
       "      <td>0.1374</td>\n",
       "      <td>0.2050</td>\n",
       "      <td>0.4000</td>\n",
       "      <td>0.1625</td>\n",
       "      <td>0.2364</td>\n",
       "      <td>0.07678</td>\n",
       "    </tr>\n",
       "  </tbody>\n",
       "</table>\n",
       "<p>5 rows × 32 columns</p>\n",
       "</div>"
      ],
      "text/plain": [
       "         id diagnosis  radius_mean  texture_mean  perimeter_mean  area_mean  \\\n",
       "0    842302         M        17.99         10.38          122.80     1001.0   \n",
       "1    842517         M        20.57         17.77          132.90     1326.0   \n",
       "2  84300903         M        19.69         21.25          130.00     1203.0   \n",
       "3  84348301         M        11.42         20.38           77.58      386.1   \n",
       "4  84358402         M        20.29         14.34          135.10     1297.0   \n",
       "\n",
       "   smoothness_mean  compactness_mean  concavity_mean  concave points_mean  \\\n",
       "0          0.11840           0.27760          0.3001              0.14710   \n",
       "1          0.08474           0.07864          0.0869              0.07017   \n",
       "2          0.10960           0.15990          0.1974              0.12790   \n",
       "3          0.14250           0.28390          0.2414              0.10520   \n",
       "4          0.10030           0.13280          0.1980              0.10430   \n",
       "\n",
       "   ...  radius_worst  texture_worst  perimeter_worst  area_worst  \\\n",
       "0  ...         25.38          17.33           184.60      2019.0   \n",
       "1  ...         24.99          23.41           158.80      1956.0   \n",
       "2  ...         23.57          25.53           152.50      1709.0   \n",
       "3  ...         14.91          26.50            98.87       567.7   \n",
       "4  ...         22.54          16.67           152.20      1575.0   \n",
       "\n",
       "   smoothness_worst  compactness_worst  concavity_worst  concave points_worst  \\\n",
       "0            0.1622             0.6656           0.7119                0.2654   \n",
       "1            0.1238             0.1866           0.2416                0.1860   \n",
       "2            0.1444             0.4245           0.4504                0.2430   \n",
       "3            0.2098             0.8663           0.6869                0.2575   \n",
       "4            0.1374             0.2050           0.4000                0.1625   \n",
       "\n",
       "   symmetry_worst  fractal_dimension_worst  \n",
       "0          0.4601                  0.11890  \n",
       "1          0.2750                  0.08902  \n",
       "2          0.3613                  0.08758  \n",
       "3          0.6638                  0.17300  \n",
       "4          0.2364                  0.07678  \n",
       "\n",
       "[5 rows x 32 columns]"
      ]
     },
     "execution_count": 2,
     "metadata": {},
     "output_type": "execute_result"
    }
   ],
   "source": [
    "df = pd.read_csv('/kaggle/input/breast-cancer-dataset/breast-cancer.csv')\n",
    "df.head()"
   ]
  },
  {
   "cell_type": "code",
   "execution_count": 3,
   "id": "9f8c4262",
   "metadata": {
    "execution": {
     "iopub.execute_input": "2023-08-26T20:01:52.711098Z",
     "iopub.status.busy": "2023-08-26T20:01:52.710709Z",
     "iopub.status.idle": "2023-08-26T20:01:52.717362Z",
     "shell.execute_reply": "2023-08-26T20:01:52.716278Z"
    },
    "papermill": {
     "duration": 0.018164,
     "end_time": "2023-08-26T20:01:52.719653",
     "exception": false,
     "start_time": "2023-08-26T20:01:52.701489",
     "status": "completed"
    },
    "tags": []
   },
   "outputs": [
    {
     "data": {
      "text/plain": [
       "(569, 32)"
      ]
     },
     "execution_count": 3,
     "metadata": {},
     "output_type": "execute_result"
    }
   ],
   "source": [
    "df.shape"
   ]
  },
  {
   "cell_type": "code",
   "execution_count": 4,
   "id": "cd135230",
   "metadata": {
    "execution": {
     "iopub.execute_input": "2023-08-26T20:01:52.738375Z",
     "iopub.status.busy": "2023-08-26T20:01:52.738004Z",
     "iopub.status.idle": "2023-08-26T20:01:52.750652Z",
     "shell.execute_reply": "2023-08-26T20:01:52.749688Z"
    },
    "papermill": {
     "duration": 0.023874,
     "end_time": "2023-08-26T20:01:52.752872",
     "exception": false,
     "start_time": "2023-08-26T20:01:52.728998",
     "status": "completed"
    },
    "tags": []
   },
   "outputs": [
    {
     "data": {
      "text/plain": [
       "B    357\n",
       "M    212\n",
       "Name: diagnosis, dtype: int64"
      ]
     },
     "execution_count": 4,
     "metadata": {},
     "output_type": "execute_result"
    }
   ],
   "source": [
    "df.diagnosis.value_counts()"
   ]
  },
  {
   "cell_type": "code",
   "execution_count": 5,
   "id": "005775ed",
   "metadata": {
    "execution": {
     "iopub.execute_input": "2023-08-26T20:01:52.770486Z",
     "iopub.status.busy": "2023-08-26T20:01:52.769786Z",
     "iopub.status.idle": "2023-08-26T20:01:52.780132Z",
     "shell.execute_reply": "2023-08-26T20:01:52.778931Z"
    },
    "papermill": {
     "duration": 0.021734,
     "end_time": "2023-08-26T20:01:52.782531",
     "exception": false,
     "start_time": "2023-08-26T20:01:52.760797",
     "status": "completed"
    },
    "tags": []
   },
   "outputs": [
    {
     "data": {
      "text/plain": [
       "0    357\n",
       "1    212\n",
       "Name: diagnosis_maligno, dtype: int64"
      ]
     },
     "execution_count": 5,
     "metadata": {},
     "output_type": "execute_result"
    }
   ],
   "source": [
    "df['diagnosis_maligno'] = df.diagnosis.apply(lambda x: 1 if x == 'M' else 0)\n",
    "df['diagnosis_maligno'].value_counts()"
   ]
  },
  {
   "cell_type": "markdown",
   "id": "2a7fde65",
   "metadata": {
    "papermill": {
     "duration": 0.007565,
     "end_time": "2023-08-26T20:01:52.798112",
     "exception": false,
     "start_time": "2023-08-26T20:01:52.790547",
     "status": "completed"
    },
    "tags": []
   },
   "source": [
    "## Separando treino e teste:"
   ]
  },
  {
   "cell_type": "code",
   "execution_count": 6,
   "id": "6cdd4c99",
   "metadata": {
    "execution": {
     "iopub.execute_input": "2023-08-26T20:01:52.815591Z",
     "iopub.status.busy": "2023-08-26T20:01:52.815226Z",
     "iopub.status.idle": "2023-08-26T20:01:54.003443Z",
     "shell.execute_reply": "2023-08-26T20:01:54.001904Z"
    },
    "papermill": {
     "duration": 1.200551,
     "end_time": "2023-08-26T20:01:54.006593",
     "exception": false,
     "start_time": "2023-08-26T20:01:52.806042",
     "status": "completed"
    },
    "tags": []
   },
   "outputs": [
    {
     "name": "stderr",
     "output_type": "stream",
     "text": [
      "/opt/conda/lib/python3.10/site-packages/scipy/__init__.py:146: UserWarning: A NumPy version >=1.16.5 and <1.23.0 is required for this version of SciPy (detected version 1.23.5\n",
      "  warnings.warn(f\"A NumPy version >={np_minversion} and <{np_maxversion}\"\n"
     ]
    }
   ],
   "source": [
    "from sklearn.model_selection import train_test_split"
   ]
  },
  {
   "cell_type": "code",
   "execution_count": 7,
   "id": "dbeeaf0b",
   "metadata": {
    "execution": {
     "iopub.execute_input": "2023-08-26T20:01:54.025537Z",
     "iopub.status.busy": "2023-08-26T20:01:54.024801Z",
     "iopub.status.idle": "2023-08-26T20:01:54.031386Z",
     "shell.execute_reply": "2023-08-26T20:01:54.030596Z"
    },
    "papermill": {
     "duration": 0.018088,
     "end_time": "2023-08-26T20:01:54.033304",
     "exception": false,
     "start_time": "2023-08-26T20:01:54.015216",
     "status": "completed"
    },
    "tags": []
   },
   "outputs": [
    {
     "data": {
      "text/plain": [
       "Index(['id', 'diagnosis', 'radius_mean', 'texture_mean', 'perimeter_mean',\n",
       "       'area_mean', 'smoothness_mean', 'compactness_mean', 'concavity_mean',\n",
       "       'concave points_mean', 'symmetry_mean', 'fractal_dimension_mean',\n",
       "       'radius_se', 'texture_se', 'perimeter_se', 'area_se', 'smoothness_se',\n",
       "       'compactness_se', 'concavity_se', 'concave points_se', 'symmetry_se',\n",
       "       'fractal_dimension_se', 'radius_worst', 'texture_worst',\n",
       "       'perimeter_worst', 'area_worst', 'smoothness_worst',\n",
       "       'compactness_worst', 'concavity_worst', 'concave points_worst',\n",
       "       'symmetry_worst', 'fractal_dimension_worst', 'diagnosis_maligno'],\n",
       "      dtype='object')"
      ]
     },
     "execution_count": 7,
     "metadata": {},
     "output_type": "execute_result"
    }
   ],
   "source": [
    "df.columns"
   ]
  },
  {
   "cell_type": "code",
   "execution_count": 8,
   "id": "d47e59d2",
   "metadata": {
    "execution": {
     "iopub.execute_input": "2023-08-26T20:01:54.051681Z",
     "iopub.status.busy": "2023-08-26T20:01:54.051267Z",
     "iopub.status.idle": "2023-08-26T20:01:54.061644Z",
     "shell.execute_reply": "2023-08-26T20:01:54.060698Z"
    },
    "papermill": {
     "duration": 0.022403,
     "end_time": "2023-08-26T20:01:54.063946",
     "exception": false,
     "start_time": "2023-08-26T20:01:54.041543",
     "status": "completed"
    },
    "tags": []
   },
   "outputs": [],
   "source": [
    "X = df[['radius_mean', 'texture_mean', 'perimeter_mean',\n",
    "       'area_mean', 'smoothness_mean', 'compactness_mean', 'concavity_mean',\n",
    "       'concave points_mean', 'symmetry_mean', 'fractal_dimension_mean',\n",
    "       'radius_se', 'texture_se', 'perimeter_se', 'area_se', 'smoothness_se',\n",
    "       'compactness_se', 'concavity_se', 'concave points_se', 'symmetry_se',\n",
    "       'fractal_dimension_se', 'radius_worst', 'texture_worst',\n",
    "       'perimeter_worst', 'area_worst', 'smoothness_worst',\n",
    "       'compactness_worst', 'concavity_worst', 'concave points_worst',\n",
    "       'symmetry_worst', 'fractal_dimension_worst']]\n",
    "\n",
    "y = df['diagnosis_maligno']"
   ]
  },
  {
   "cell_type": "code",
   "execution_count": 9,
   "id": "9979fcf8",
   "metadata": {
    "execution": {
     "iopub.execute_input": "2023-08-26T20:01:54.082245Z",
     "iopub.status.busy": "2023-08-26T20:01:54.081867Z",
     "iopub.status.idle": "2023-08-26T20:01:54.089987Z",
     "shell.execute_reply": "2023-08-26T20:01:54.088931Z"
    },
    "papermill": {
     "duration": 0.019485,
     "end_time": "2023-08-26T20:01:54.091925",
     "exception": false,
     "start_time": "2023-08-26T20:01:54.072440",
     "status": "completed"
    },
    "tags": []
   },
   "outputs": [],
   "source": [
    "X_train, X_test, y_train, y_test = train_test_split(X, y, test_size = 0.1)\n",
    "X_train, X_val, y_train, y_val = train_test_split(X_train, y_train, test_size = 0.1)"
   ]
  },
  {
   "cell_type": "code",
   "execution_count": 10,
   "id": "c49f7bc1",
   "metadata": {
    "execution": {
     "iopub.execute_input": "2023-08-26T20:01:54.110603Z",
     "iopub.status.busy": "2023-08-26T20:01:54.109993Z",
     "iopub.status.idle": "2023-08-26T20:01:54.115989Z",
     "shell.execute_reply": "2023-08-26T20:01:54.114873Z"
    },
    "papermill": {
     "duration": 0.018012,
     "end_time": "2023-08-26T20:01:54.118103",
     "exception": false,
     "start_time": "2023-08-26T20:01:54.100091",
     "status": "completed"
    },
    "tags": []
   },
   "outputs": [
    {
     "data": {
      "text/plain": [
       "460"
      ]
     },
     "execution_count": 10,
     "metadata": {},
     "output_type": "execute_result"
    }
   ],
   "source": [
    "len(X_train)"
   ]
  },
  {
   "cell_type": "code",
   "execution_count": 11,
   "id": "ccc5e7ae",
   "metadata": {
    "execution": {
     "iopub.execute_input": "2023-08-26T20:01:54.136658Z",
     "iopub.status.busy": "2023-08-26T20:01:54.136224Z",
     "iopub.status.idle": "2023-08-26T20:01:54.142790Z",
     "shell.execute_reply": "2023-08-26T20:01:54.141684Z"
    },
    "papermill": {
     "duration": 0.018523,
     "end_time": "2023-08-26T20:01:54.144925",
     "exception": false,
     "start_time": "2023-08-26T20:01:54.126402",
     "status": "completed"
    },
    "tags": []
   },
   "outputs": [
    {
     "data": {
      "text/plain": [
       "57"
      ]
     },
     "execution_count": 11,
     "metadata": {},
     "output_type": "execute_result"
    }
   ],
   "source": [
    "len(X_test)"
   ]
  },
  {
   "cell_type": "code",
   "execution_count": 12,
   "id": "54f15f74",
   "metadata": {
    "execution": {
     "iopub.execute_input": "2023-08-26T20:01:54.163471Z",
     "iopub.status.busy": "2023-08-26T20:01:54.163079Z",
     "iopub.status.idle": "2023-08-26T20:01:54.169783Z",
     "shell.execute_reply": "2023-08-26T20:01:54.168665Z"
    },
    "papermill": {
     "duration": 0.018559,
     "end_time": "2023-08-26T20:01:54.172014",
     "exception": false,
     "start_time": "2023-08-26T20:01:54.153455",
     "status": "completed"
    },
    "tags": []
   },
   "outputs": [
    {
     "data": {
      "text/plain": [
       "52"
      ]
     },
     "execution_count": 12,
     "metadata": {},
     "output_type": "execute_result"
    }
   ],
   "source": [
    "len(X_val)"
   ]
  },
  {
   "cell_type": "markdown",
   "id": "375096d9",
   "metadata": {
    "papermill": {
     "duration": 0.008132,
     "end_time": "2023-08-26T20:01:54.188732",
     "exception": false,
     "start_time": "2023-08-26T20:01:54.180600",
     "status": "completed"
    },
    "tags": []
   },
   "source": [
    "## Normalizando os dados:"
   ]
  },
  {
   "cell_type": "code",
   "execution_count": 13,
   "id": "31b36056",
   "metadata": {
    "execution": {
     "iopub.execute_input": "2023-08-26T20:01:54.207585Z",
     "iopub.status.busy": "2023-08-26T20:01:54.206926Z",
     "iopub.status.idle": "2023-08-26T20:01:54.211876Z",
     "shell.execute_reply": "2023-08-26T20:01:54.210686Z"
    },
    "papermill": {
     "duration": 0.016901,
     "end_time": "2023-08-26T20:01:54.214022",
     "exception": false,
     "start_time": "2023-08-26T20:01:54.197121",
     "status": "completed"
    },
    "tags": []
   },
   "outputs": [],
   "source": [
    "from sklearn.preprocessing import StandardScaler"
   ]
  },
  {
   "cell_type": "code",
   "execution_count": 14,
   "id": "bbc2535c",
   "metadata": {
    "execution": {
     "iopub.execute_input": "2023-08-26T20:01:54.233247Z",
     "iopub.status.busy": "2023-08-26T20:01:54.232818Z",
     "iopub.status.idle": "2023-08-26T20:01:54.237587Z",
     "shell.execute_reply": "2023-08-26T20:01:54.236548Z"
    },
    "papermill": {
     "duration": 0.016789,
     "end_time": "2023-08-26T20:01:54.239805",
     "exception": false,
     "start_time": "2023-08-26T20:01:54.223016",
     "status": "completed"
    },
    "tags": []
   },
   "outputs": [],
   "source": [
    "sc = StandardScaler()"
   ]
  },
  {
   "cell_type": "code",
   "execution_count": 15,
   "id": "45b0841d",
   "metadata": {
    "execution": {
     "iopub.execute_input": "2023-08-26T20:01:54.258634Z",
     "iopub.status.busy": "2023-08-26T20:01:54.258211Z",
     "iopub.status.idle": "2023-08-26T20:01:54.275285Z",
     "shell.execute_reply": "2023-08-26T20:01:54.274038Z"
    },
    "papermill": {
     "duration": 0.029519,
     "end_time": "2023-08-26T20:01:54.277929",
     "exception": false,
     "start_time": "2023-08-26T20:01:54.248410",
     "status": "completed"
    },
    "tags": []
   },
   "outputs": [],
   "source": [
    "X_train = sc.fit_transform(X_train)\n",
    "X_test = sc.fit_transform(X_test)\n",
    "X_val = sc.fit_transform(X_val)"
   ]
  },
  {
   "cell_type": "code",
   "execution_count": 16,
   "id": "072dad7d",
   "metadata": {
    "execution": {
     "iopub.execute_input": "2023-08-26T20:01:54.297376Z",
     "iopub.status.busy": "2023-08-26T20:01:54.296224Z",
     "iopub.status.idle": "2023-08-26T20:01:54.304031Z",
     "shell.execute_reply": "2023-08-26T20:01:54.302995Z"
    },
    "papermill": {
     "duration": 0.019668,
     "end_time": "2023-08-26T20:01:54.306115",
     "exception": false,
     "start_time": "2023-08-26T20:01:54.286447",
     "status": "completed"
    },
    "tags": []
   },
   "outputs": [
    {
     "data": {
      "text/plain": [
       "array([[-0.65891871,  0.50155966, -0.64008845, ..., -0.4254832 ,\n",
       "        -0.9490687 ,  0.82189771],\n",
       "       [-0.15046863, -0.70157593, -0.20814857, ..., -0.45017838,\n",
       "        -0.88492796, -0.21330484],\n",
       "       [-1.1127894 ,  1.90598909, -1.10448625, ..., -0.3687144 ,\n",
       "        -1.07265696, -0.07470481],\n",
       "       ...,\n",
       "       [ 0.53608261, -0.89361488,  0.56543164, ...,  1.23993568,\n",
       "         0.16791883,  0.37708831],\n",
       "       [ 1.61617996,  1.32987224,  1.58910421, ...,  0.86499056,\n",
       "         0.6153396 ,  0.02306731],\n",
       "       [ 0.1827529 , -0.39616458,  0.1526336 , ..., -0.49203972,\n",
       "         1.07684005, -0.61083981]])"
      ]
     },
     "execution_count": 16,
     "metadata": {},
     "output_type": "execute_result"
    }
   ],
   "source": [
    "X_train"
   ]
  },
  {
   "cell_type": "markdown",
   "id": "bf41794a",
   "metadata": {
    "papermill": {
     "duration": 0.008622,
     "end_time": "2023-08-26T20:01:54.323629",
     "exception": false,
     "start_time": "2023-08-26T20:01:54.315007",
     "status": "completed"
    },
    "tags": []
   },
   "source": [
    "## Definição da arquitetura:"
   ]
  },
  {
   "cell_type": "code",
   "execution_count": 17,
   "id": "85fdd05d",
   "metadata": {
    "execution": {
     "iopub.execute_input": "2023-08-26T20:01:54.342750Z",
     "iopub.status.busy": "2023-08-26T20:01:54.342303Z",
     "iopub.status.idle": "2023-08-26T20:02:02.484393Z",
     "shell.execute_reply": "2023-08-26T20:02:02.483282Z"
    },
    "papermill": {
     "duration": 8.154766,
     "end_time": "2023-08-26T20:02:02.487023",
     "exception": false,
     "start_time": "2023-08-26T20:01:54.332257",
     "status": "completed"
    },
    "tags": []
   },
   "outputs": [
    {
     "name": "stderr",
     "output_type": "stream",
     "text": [
      "/opt/conda/lib/python3.10/site-packages/tensorflow_io/python/ops/__init__.py:98: UserWarning: unable to load libtensorflow_io_plugins.so: unable to open file: libtensorflow_io_plugins.so, from paths: ['/opt/conda/lib/python3.10/site-packages/tensorflow_io/python/ops/libtensorflow_io_plugins.so']\n",
      "caused by: ['/opt/conda/lib/python3.10/site-packages/tensorflow_io/python/ops/libtensorflow_io_plugins.so: undefined symbol: _ZN3tsl6StatusC1EN10tensorflow5error4CodeESt17basic_string_viewIcSt11char_traitsIcEENS_14SourceLocationE']\n",
      "  warnings.warn(f\"unable to load libtensorflow_io_plugins.so: {e}\")\n",
      "/opt/conda/lib/python3.10/site-packages/tensorflow_io/python/ops/__init__.py:104: UserWarning: file system plugins are not loaded: unable to open file: libtensorflow_io.so, from paths: ['/opt/conda/lib/python3.10/site-packages/tensorflow_io/python/ops/libtensorflow_io.so']\n",
      "caused by: ['/opt/conda/lib/python3.10/site-packages/tensorflow_io/python/ops/libtensorflow_io.so: undefined symbol: _ZTVN10tensorflow13GcsFileSystemE']\n",
      "  warnings.warn(f\"file system plugins are not loaded: {e}\")\n"
     ]
    }
   ],
   "source": [
    "import tensorflow as tf\n",
    "from tensorflow.keras import Sequential \n",
    "from tensorflow.keras.layers import Dense\n",
    "from tensorflow.keras.optimizers import Adam"
   ]
  },
  {
   "cell_type": "code",
   "execution_count": 18,
   "id": "9ea735f8",
   "metadata": {
    "execution": {
     "iopub.execute_input": "2023-08-26T20:02:02.509842Z",
     "iopub.status.busy": "2023-08-26T20:02:02.508544Z",
     "iopub.status.idle": "2023-08-26T20:02:02.515250Z",
     "shell.execute_reply": "2023-08-26T20:02:02.514098Z"
    },
    "papermill": {
     "duration": 0.019654,
     "end_time": "2023-08-26T20:02:02.517895",
     "exception": false,
     "start_time": "2023-08-26T20:02:02.498241",
     "status": "completed"
    },
    "tags": []
   },
   "outputs": [],
   "source": [
    "def build_model():\n",
    "    model = Sequential()\n",
    "    model.add(Dense(input_dim = 30, units = 10, activation = 'relu'))\n",
    "    model.add(Dense(10, activation = 'relu'))\n",
    "    \n",
    "    model.add(Dense(1, activation = 'sigmoid'))\n",
    "    \n",
    "    return model"
   ]
  },
  {
   "cell_type": "code",
   "execution_count": 19,
   "id": "52ec50ad",
   "metadata": {
    "execution": {
     "iopub.execute_input": "2023-08-26T20:02:02.537982Z",
     "iopub.status.busy": "2023-08-26T20:02:02.537563Z",
     "iopub.status.idle": "2023-08-26T20:02:02.724475Z",
     "shell.execute_reply": "2023-08-26T20:02:02.723399Z"
    },
    "papermill": {
     "duration": 0.199695,
     "end_time": "2023-08-26T20:02:02.727085",
     "exception": false,
     "start_time": "2023-08-26T20:02:02.527390",
     "status": "completed"
    },
    "tags": []
   },
   "outputs": [],
   "source": [
    "model = build_model()"
   ]
  },
  {
   "cell_type": "code",
   "execution_count": 20,
   "id": "11ccee84",
   "metadata": {
    "execution": {
     "iopub.execute_input": "2023-08-26T20:02:02.746180Z",
     "iopub.status.busy": "2023-08-26T20:02:02.745777Z",
     "iopub.status.idle": "2023-08-26T20:02:02.765668Z",
     "shell.execute_reply": "2023-08-26T20:02:02.764550Z"
    },
    "papermill": {
     "duration": 0.034366,
     "end_time": "2023-08-26T20:02:02.770333",
     "exception": false,
     "start_time": "2023-08-26T20:02:02.735967",
     "status": "completed"
    },
    "tags": []
   },
   "outputs": [
    {
     "name": "stdout",
     "output_type": "stream",
     "text": [
      "Model: \"sequential\"\n",
      "_________________________________________________________________\n",
      " Layer (type)                Output Shape              Param #   \n",
      "=================================================================\n",
      " dense (Dense)               (None, 10)                310       \n",
      "                                                                 \n",
      " dense_1 (Dense)             (None, 10)                110       \n",
      "                                                                 \n",
      " dense_2 (Dense)             (None, 1)                 11        \n",
      "                                                                 \n",
      "=================================================================\n",
      "Total params: 431\n",
      "Trainable params: 431\n",
      "Non-trainable params: 0\n",
      "_________________________________________________________________\n"
     ]
    }
   ],
   "source": [
    "model.summary()"
   ]
  },
  {
   "cell_type": "markdown",
   "id": "9958fc9f",
   "metadata": {
    "papermill": {
     "duration": 0.009225,
     "end_time": "2023-08-26T20:02:02.789102",
     "exception": false,
     "start_time": "2023-08-26T20:02:02.779877",
     "status": "completed"
    },
    "tags": []
   },
   "source": [
    "## Compilação:"
   ]
  },
  {
   "cell_type": "code",
   "execution_count": 21,
   "id": "faf73323",
   "metadata": {
    "execution": {
     "iopub.execute_input": "2023-08-26T20:02:02.810295Z",
     "iopub.status.busy": "2023-08-26T20:02:02.809897Z",
     "iopub.status.idle": "2023-08-26T20:02:02.828887Z",
     "shell.execute_reply": "2023-08-26T20:02:02.827928Z"
    },
    "papermill": {
     "duration": 0.034022,
     "end_time": "2023-08-26T20:02:02.832789",
     "exception": false,
     "start_time": "2023-08-26T20:02:02.798767",
     "status": "completed"
    },
    "tags": []
   },
   "outputs": [],
   "source": [
    "adam = Adam(lr = 0.01)                      # 'lr' (learning rate): tamanho do passo que a Rede vai dar\n",
    "model.compile(loss = 'binary_crossentropy', # Como o erro é calculado\n",
    "              optimizer = adam,             # Define como vai ser a função que estima a direção da rede\n",
    "              metrics = ['accuracy'])       # Imprime a acurácia de cada passo da rede"
   ]
  },
  {
   "cell_type": "markdown",
   "id": "223ea5bd",
   "metadata": {
    "papermill": {
     "duration": 0.009684,
     "end_time": "2023-08-26T20:02:02.852511",
     "exception": false,
     "start_time": "2023-08-26T20:02:02.842827",
     "status": "completed"
    },
    "tags": []
   },
   "source": [
    "## Treinamento:"
   ]
  },
  {
   "cell_type": "code",
   "execution_count": 22,
   "id": "05801d06",
   "metadata": {
    "execution": {
     "iopub.execute_input": "2023-08-26T20:02:02.873386Z",
     "iopub.status.busy": "2023-08-26T20:02:02.873005Z",
     "iopub.status.idle": "2023-08-26T20:02:05.480863Z",
     "shell.execute_reply": "2023-08-26T20:02:05.479694Z"
    },
    "papermill": {
     "duration": 2.621324,
     "end_time": "2023-08-26T20:02:05.483357",
     "exception": false,
     "start_time": "2023-08-26T20:02:02.862033",
     "status": "completed"
    },
    "tags": []
   },
   "outputs": [
    {
     "name": "stdout",
     "output_type": "stream",
     "text": [
      "Epoch 1/15\n",
      "29/29 [==============================] - 1s 10ms/step - loss: 0.5809 - accuracy: 0.7457 - val_loss: 0.4203 - val_accuracy: 0.8654\n",
      "Epoch 2/15\n",
      "29/29 [==============================] - 0s 3ms/step - loss: 0.3604 - accuracy: 0.8978 - val_loss: 0.3083 - val_accuracy: 0.8846\n",
      "Epoch 3/15\n",
      "29/29 [==============================] - 0s 3ms/step - loss: 0.2552 - accuracy: 0.9239 - val_loss: 0.2370 - val_accuracy: 0.9038\n",
      "Epoch 4/15\n",
      "29/29 [==============================] - 0s 3ms/step - loss: 0.1935 - accuracy: 0.9522 - val_loss: 0.1881 - val_accuracy: 0.9231\n",
      "Epoch 5/15\n",
      "29/29 [==============================] - 0s 3ms/step - loss: 0.1579 - accuracy: 0.9522 - val_loss: 0.1537 - val_accuracy: 0.9615\n",
      "Epoch 6/15\n",
      "29/29 [==============================] - 0s 3ms/step - loss: 0.1348 - accuracy: 0.9522 - val_loss: 0.1279 - val_accuracy: 0.9615\n",
      "Epoch 7/15\n",
      "29/29 [==============================] - 0s 3ms/step - loss: 0.1189 - accuracy: 0.9587 - val_loss: 0.1069 - val_accuracy: 0.9808\n",
      "Epoch 8/15\n",
      "29/29 [==============================] - 0s 3ms/step - loss: 0.1063 - accuracy: 0.9696 - val_loss: 0.0917 - val_accuracy: 0.9808\n",
      "Epoch 9/15\n",
      "29/29 [==============================] - 0s 3ms/step - loss: 0.0967 - accuracy: 0.9717 - val_loss: 0.0803 - val_accuracy: 0.9808\n",
      "Epoch 10/15\n",
      "29/29 [==============================] - 0s 3ms/step - loss: 0.0888 - accuracy: 0.9761 - val_loss: 0.0707 - val_accuracy: 0.9808\n",
      "Epoch 11/15\n",
      "29/29 [==============================] - 0s 3ms/step - loss: 0.0824 - accuracy: 0.9739 - val_loss: 0.0636 - val_accuracy: 0.9808\n",
      "Epoch 12/15\n",
      "29/29 [==============================] - 0s 3ms/step - loss: 0.0770 - accuracy: 0.9783 - val_loss: 0.0570 - val_accuracy: 0.9808\n",
      "Epoch 13/15\n",
      "29/29 [==============================] - 0s 3ms/step - loss: 0.0722 - accuracy: 0.9761 - val_loss: 0.0517 - val_accuracy: 0.9808\n",
      "Epoch 14/15\n",
      "29/29 [==============================] - 0s 3ms/step - loss: 0.0685 - accuracy: 0.9761 - val_loss: 0.0466 - val_accuracy: 1.0000\n",
      "Epoch 15/15\n",
      "29/29 [==============================] - 0s 3ms/step - loss: 0.0651 - accuracy: 0.9783 - val_loss: 0.0428 - val_accuracy: 1.0000\n"
     ]
    },
    {
     "data": {
      "text/plain": [
       "<keras.callbacks.History at 0x7ecff227ab90>"
      ]
     },
     "execution_count": 22,
     "metadata": {},
     "output_type": "execute_result"
    }
   ],
   "source": [
    "model.fit(x = X_train, y = y_train, validation_data = (X_val, y_val), batch_size = 16, epochs = 15)"
   ]
  },
  {
   "cell_type": "markdown",
   "id": "f510bee0",
   "metadata": {
    "papermill": {
     "duration": 0.012945,
     "end_time": "2023-08-26T20:02:05.508738",
     "exception": false,
     "start_time": "2023-08-26T20:02:05.495793",
     "status": "completed"
    },
    "tags": []
   },
   "source": [
    "## Avaliação:"
   ]
  },
  {
   "cell_type": "code",
   "execution_count": 23,
   "id": "c399ff6d",
   "metadata": {
    "execution": {
     "iopub.execute_input": "2023-08-26T20:02:05.535415Z",
     "iopub.status.busy": "2023-08-26T20:02:05.535039Z",
     "iopub.status.idle": "2023-08-26T20:02:05.701398Z",
     "shell.execute_reply": "2023-08-26T20:02:05.700122Z"
    },
    "papermill": {
     "duration": 0.182472,
     "end_time": "2023-08-26T20:02:05.703787",
     "exception": false,
     "start_time": "2023-08-26T20:02:05.521315",
     "status": "completed"
    },
    "tags": []
   },
   "outputs": [
    {
     "name": "stdout",
     "output_type": "stream",
     "text": [
      "2/2 [==============================] - 0s 3ms/step\n"
     ]
    }
   ],
   "source": [
    "y_pred = model.predict(X_test)"
   ]
  },
  {
   "cell_type": "code",
   "execution_count": 24,
   "id": "39812dc3",
   "metadata": {
    "execution": {
     "iopub.execute_input": "2023-08-26T20:02:05.731844Z",
     "iopub.status.busy": "2023-08-26T20:02:05.730601Z",
     "iopub.status.idle": "2023-08-26T20:02:05.735322Z",
     "shell.execute_reply": "2023-08-26T20:02:05.734556Z"
    },
    "papermill": {
     "duration": 0.020788,
     "end_time": "2023-08-26T20:02:05.737268",
     "exception": false,
     "start_time": "2023-08-26T20:02:05.716480",
     "status": "completed"
    },
    "tags": []
   },
   "outputs": [],
   "source": [
    "from sklearn.metrics import confusion_matrix"
   ]
  },
  {
   "cell_type": "code",
   "execution_count": 25,
   "id": "e1166f94",
   "metadata": {
    "execution": {
     "iopub.execute_input": "2023-08-26T20:02:05.764062Z",
     "iopub.status.busy": "2023-08-26T20:02:05.763383Z",
     "iopub.status.idle": "2023-08-26T20:02:05.771131Z",
     "shell.execute_reply": "2023-08-26T20:02:05.770045Z"
    },
    "papermill": {
     "duration": 0.023446,
     "end_time": "2023-08-26T20:02:05.773266",
     "exception": false,
     "start_time": "2023-08-26T20:02:05.749820",
     "status": "completed"
    },
    "tags": []
   },
   "outputs": [
    {
     "data": {
      "text/plain": [
       "array([[9.8453844e-01],\n",
       "       [6.8347342e-02],\n",
       "       [9.6315128e-01],\n",
       "       [1.1490532e-04],\n",
       "       [9.8934591e-01],\n",
       "       [1.9043777e-02],\n",
       "       [1.1342987e-02],\n",
       "       [1.0500622e-01],\n",
       "       [7.5229041e-02],\n",
       "       [3.1632289e-02],\n",
       "       [5.5872727e-02],\n",
       "       [2.6210493e-01],\n",
       "       [1.3101718e-01],\n",
       "       [2.0563840e-03],\n",
       "       [1.7754942e-02],\n",
       "       [2.6103128e-03],\n",
       "       [6.1586956e-03],\n",
       "       [1.3574512e-02],\n",
       "       [3.5360772e-02],\n",
       "       [9.1093453e-03],\n",
       "       [4.4917867e-02],\n",
       "       [9.0062553e-01],\n",
       "       [9.9898893e-01],\n",
       "       [9.9604762e-01],\n",
       "       [9.6309286e-01],\n",
       "       [3.0402611e-03],\n",
       "       [8.0883699e-03],\n",
       "       [3.1454783e-02],\n",
       "       [1.4858706e-02],\n",
       "       [9.9993747e-01],\n",
       "       [9.9997824e-01],\n",
       "       [4.9341023e-02],\n",
       "       [4.9013689e-02],\n",
       "       [1.3535223e-02],\n",
       "       [9.9999863e-01],\n",
       "       [2.4686239e-03],\n",
       "       [8.5719347e-02],\n",
       "       [6.6517224e-03],\n",
       "       [4.7608867e-04],\n",
       "       [3.5548524e-03],\n",
       "       [1.0462503e-02],\n",
       "       [9.9793977e-01],\n",
       "       [9.5265663e-01],\n",
       "       [9.9999928e-01],\n",
       "       [6.4766936e-02],\n",
       "       [1.5502322e-03],\n",
       "       [8.2864322e-02],\n",
       "       [9.9977773e-01],\n",
       "       [8.7524301e-01],\n",
       "       [9.8254472e-01],\n",
       "       [1.6271124e-02],\n",
       "       [9.3463406e-02],\n",
       "       [3.1218554e-03],\n",
       "       [5.3490199e-02],\n",
       "       [9.9998200e-01],\n",
       "       [4.1645118e-03],\n",
       "       [9.8549944e-01]], dtype=float32)"
      ]
     },
     "execution_count": 25,
     "metadata": {},
     "output_type": "execute_result"
    }
   ],
   "source": [
    "y_pred"
   ]
  },
  {
   "cell_type": "code",
   "execution_count": 26,
   "id": "386ce2fe",
   "metadata": {
    "execution": {
     "iopub.execute_input": "2023-08-26T20:02:05.805018Z",
     "iopub.status.busy": "2023-08-26T20:02:05.803576Z",
     "iopub.status.idle": "2023-08-26T20:02:05.814882Z",
     "shell.execute_reply": "2023-08-26T20:02:05.813703Z"
    },
    "papermill": {
     "duration": 0.031062,
     "end_time": "2023-08-26T20:02:05.817056",
     "exception": false,
     "start_time": "2023-08-26T20:02:05.785994",
     "status": "completed"
    },
    "tags": []
   },
   "outputs": [
    {
     "data": {
      "text/plain": [
       "array([[39,  4],\n",
       "       [ 0, 14]])"
      ]
     },
     "execution_count": 26,
     "metadata": {},
     "output_type": "execute_result"
    }
   ],
   "source": [
    "cm = confusion_matrix(y_test, y_pred > 0.5)\n",
    "cm"
   ]
  },
  {
   "cell_type": "code",
   "execution_count": 27,
   "id": "5e74f3f6",
   "metadata": {
    "execution": {
     "iopub.execute_input": "2023-08-26T20:02:05.853273Z",
     "iopub.status.busy": "2023-08-26T20:02:05.852426Z",
     "iopub.status.idle": "2023-08-26T20:02:06.681268Z",
     "shell.execute_reply": "2023-08-26T20:02:06.680423Z"
    },
    "papermill": {
     "duration": 0.852677,
     "end_time": "2023-08-26T20:02:06.683991",
     "exception": false,
     "start_time": "2023-08-26T20:02:05.831314",
     "status": "completed"
    },
    "tags": []
   },
   "outputs": [
    {
     "data": {
      "image/png": "[encoded data removed]",
      "text/plain": [
       "<Figure size 600x400 with 2 Axes>"
      ]
     },
     "metadata": {},
     "output_type": "display_data"
    }
   ],
   "source": [
    "import matplotlib.pyplot as plt\n",
    "import seaborn as sns\n",
    "\n",
    "plt.figure(figsize = (6, 4))\n",
    "sns.set(font_scale = 2)\n",
    "sns.heatmap(cm, annot =True, fmt = \"d\").set(xlabel = \"Predição\", ylabel = \"Real\");"
   ]
  }
 ],
 "metadata": {
  "kernelspec": {
   "display_name": "Python 3",
   "language": "python",
   "name": "python3"
  },
  "language_info": {
   "codemirror_mode": {
    "name": "ipython",
    "version": 3
   },
   "file_extension": ".py",
   "mimetype": "text/x-python",
   "name": "python",
   "nbconvert_exporter": "python",
   "pygments_lexer": "ipython3",
   "version": "3.10.12"
  },
  "papermill": {
   "default_parameters": {},
   "duration": 27.223771,
   "end_time": "2023-08-26T20:02:09.171406",
   "environment_variables": {},
   "exception": null,
   "input_path": "__notebook__.ipynb",
   "output_path": "__notebook__.ipynb",
   "parameters": {},
   "start_time": "2023-08-26T20:01:41.947635",
   "version": "2.4.0"
  }
 },
 "nbformat": 4,
 "nbformat_minor": 5
}
